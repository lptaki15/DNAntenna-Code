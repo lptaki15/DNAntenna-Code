{
 "cells": [
  {
   "cell_type": "markdown",
   "metadata": {},
   "source": [
    "# Batch Traces Analysis Condensed"
   ]
  },
  {
   "cell_type": "code",
   "execution_count": 2,
   "metadata": {},
   "outputs": [],
   "source": [
    "import os\n",
    "import sys\n",
    "import matplotlib.pyplot as plt\n",
    "import numpy as np\n",
    "import pandas as pd\n",
    "import seaborn as sns\n",
    "from analysis_functions import analyze_folder"
   ]
  },
  {
   "cell_type": "code",
   "execution_count": 112,
   "metadata": {},
   "outputs": [],
   "source": [
    "# TRACE PATH SETTINGS ##########\n",
    "# load your trajectories into file_path, must be directly to a folder with existing csv files\n",
    "file_path = '/Users/laurentakiguchi/Desktop/DNAntenna-Code/data/20230721_antenna/antenna31/ib30g/638_1000hz_0003trcsv/' \n",
    "exp_name = file_path.split('/')[-2]\n",
    "\n",
    "# SAVE PATH SETTINGS #############\n",
    "save_figs = 1 # 1 = saves plots to folder, 0 = doesn't save plots\n",
    "save_folder = '/Users/laurentakiguchi/Desktop/DNAntenna-Code/dev/analysis/20230721_antenna/antenna31/ib30g/638_1000hz_0003trcsv/' # where your plots will save\n",
    "os.makedirs(save_folder,exist_ok=True)\n",
    "\n",
    "# CAMERA ACQUISITION SETTINGS ############\n",
    "pixel_size = 108 # camera specific, 1 pixel = pixel_size nm\n",
    "fsample = 1000 # in Hz or s^-1, acquisition framerate \n",
    "###################################"
   ]
  },
  {
   "cell_type": "code",
   "execution_count": 113,
   "metadata": {},
   "outputs": [
    {
     "name": "stdout",
     "output_type": "stream",
     "text": [
      "MLE fitting failed to converge. Maximum number of function evaluations has been exceeded.\n",
      "saving psd fig...\n",
      "saving psd fig...\n",
      "saving psd fig...\n",
      "saving psd fig...\n",
      "MLE fitting failed to converge. Maximum number of function evaluations has been exceeded.\n",
      "saving psd fig...\n",
      "saving psd fig...\n",
      "saving psd fig...\n",
      "saving psd fig...\n",
      "MLE fitting failed to converge. Maximum number of function evaluations has been exceeded.\n",
      "saving psd fig...\n",
      "MLE fitting failed to converge. Maximum number of function evaluations has been exceeded.\n",
      "saving psd fig...\n",
      "MLE fitting failed to converge. Maximum number of function evaluations has been exceeded.\n",
      "saving psd fig...\n",
      "saving psd fig...\n",
      "saving psd fig...\n",
      "saving psd fig...\n",
      "MLE fitting failed to converge. Maximum number of function evaluations has been exceeded.\n",
      "saving psd fig...\n",
      "MLE fitting failed to converge. Maximum number of function evaluations has been exceeded.\n",
      "saving psd fig...\n",
      "Folder analyzed successfully\n"
     ]
    }
   ],
   "source": [
    "folder = analyze_folder(file_path, pixel_size, fsample, save_folder, save_figs)"
   ]
  },
  {
   "cell_type": "code",
   "execution_count": null,
   "metadata": {},
   "outputs": [],
   "source": []
  },
  {
   "cell_type": "markdown",
   "metadata": {},
   "source": []
  }
 ],
 "metadata": {
  "kernelspec": {
   "display_name": "origami",
   "language": "python",
   "name": "python3"
  },
  "language_info": {
   "codemirror_mode": {
    "name": "ipython",
    "version": 3
   },
   "file_extension": ".py",
   "mimetype": "text/x-python",
   "name": "python",
   "nbconvert_exporter": "python",
   "pygments_lexer": "ipython3",
   "version": "3.7.16"
  }
 },
 "nbformat": 4,
 "nbformat_minor": 2
}
